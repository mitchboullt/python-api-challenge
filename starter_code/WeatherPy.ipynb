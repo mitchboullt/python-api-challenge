{
 "cells": [
  {
   "cell_type": "markdown",
   "metadata": {},
   "source": [
    "# WeatherPy\n",
    "----\n",
    "\n",
    "#### Note\n",
    "* Instructions have been included for each segment. You do not have to follow them exactly, but they are included to help you think through the steps."
   ]
  },
  {
   "cell_type": "code",
   "execution_count": 1,
   "metadata": {
    "scrolled": true
   },
   "outputs": [],
   "source": [
    "# Dependencies and Setup\n",
    "import matplotlib.pyplot as plt\n",
    "import pandas as pd\n",
    "import numpy as np\n",
    "import requests\n",
    "import time\n",
    "from scipy.stats import linregress\n",
    "\n",
    "# Import API key\n",
    "from api_keys import weather_api_key\n",
    "\n",
    "# Incorporated citipy to determine city based on latitude and longitude\n",
    "from citipy import citipy\n",
    "\n",
    "# Output File (CSV)\n",
    "output_data_file = \"output_data/cities.csv\"\n",
    "\n",
    "# Range of latitudes and longitudes\n",
    "lat_range = (-90, 90)\n",
    "lng_range = (-180, 180)"
   ]
  },
  {
   "cell_type": "markdown",
   "metadata": {},
   "source": [
    "## Generate Cities List"
   ]
  },
  {
   "cell_type": "code",
   "execution_count": 2,
   "metadata": {},
   "outputs": [
    {
     "data": {
      "text/plain": [
       "594"
      ]
     },
     "execution_count": 2,
     "metadata": {},
     "output_type": "execute_result"
    }
   ],
   "source": [
    "# List for holding lat_lngs and cities\n",
    "lat_lngs = []\n",
    "cities = []\n",
    "\n",
    "# Create a set of random lat and lng combinations\n",
    "lats = np.random.uniform(lat_range[0], lat_range[1], size=1500)\n",
    "lngs = np.random.uniform(lng_range[0], lng_range[1], size=1500)\n",
    "lat_lngs = zip(lats, lngs)\n",
    "\n",
    "# Identify nearest city for each lat, lng combination\n",
    "for lat_lng in lat_lngs:\n",
    "    city = citipy.nearest_city(lat_lng[0], lat_lng[1]).city_name\n",
    "    \n",
    "    # If the city is unique, then add it to a our cities list\n",
    "    if city not in cities:\n",
    "        cities.append(city)\n",
    "\n",
    "# Print the city count to confirm sufficient count\n",
    "len(cities)"
   ]
  },
  {
   "cell_type": "markdown",
   "metadata": {},
   "source": [
    "### Perform API Calls\n",
    "* Perform a weather check on each city using a series of successive API calls.\n",
    "* Include a print log of each city as it'sbeing processed (with the city number and city name).\n"
   ]
  },
  {
   "cell_type": "code",
   "execution_count": 3,
   "metadata": {
    "scrolled": true
   },
   "outputs": [
    {
     "name": "stdout",
     "output_type": "stream",
     "text": [
      "Beginning Data Retrieval  \n",
      "-----------------------------\n",
      "Processing Record 1 of Set 1 | luderitz\n",
      "Processing Record 2 of Set 1 | palabuhanratu\n",
      "City not found. Skipping...\n",
      "Processing Record 3 of Set 1 | klaksvik\n",
      "Processing Record 4 of Set 1 | vardo\n",
      "Processing Record 5 of Set 1 | arraial do cabo\n",
      "Processing Record 6 of Set 1 | bredasdorp\n",
      "Processing Record 7 of Set 1 | marcona\n",
      "City not found. Skipping...\n",
      "Processing Record 8 of Set 1 | tuatapere\n",
      "Processing Record 9 of Set 1 | road town\n",
      "Processing Record 10 of Set 1 | grand forks\n",
      "Processing Record 11 of Set 1 | rikitea\n",
      "Processing Record 12 of Set 1 | victoria\n",
      "Processing Record 13 of Set 1 | jamestown\n",
      "Processing Record 14 of Set 1 | attawapiskat\n",
      "City not found. Skipping...\n",
      "Processing Record 15 of Set 1 | albany\n",
      "Processing Record 16 of Set 1 | katsuura\n",
      "Processing Record 17 of Set 1 | bengkulu\n",
      "Processing Record 18 of Set 1 | samarai\n",
      "Processing Record 19 of Set 1 | puerto ayora\n",
      "Processing Record 20 of Set 1 | mahebourg\n",
      "Processing Record 21 of Set 1 | ushuaia\n",
      "Processing Record 22 of Set 1 | longyearbyen\n",
      "Processing Record 23 of Set 1 | biak\n",
      "Processing Record 24 of Set 1 | cayenne\n",
      "Processing Record 25 of Set 1 | mataura\n",
      "Processing Record 26 of Set 1 | tuktoyaktuk\n",
      "Processing Record 27 of Set 1 | castro\n",
      "Processing Record 28 of Set 1 | saldanha\n",
      "Processing Record 29 of Set 1 | marawi\n",
      "Processing Record 30 of Set 1 | punta arenas\n",
      "Processing Record 31 of Set 1 | cape town\n",
      "Processing Record 32 of Set 1 | ribeira grande\n",
      "Processing Record 33 of Set 1 | mar del plata\n",
      "Processing Record 34 of Set 1 | bairiki\n",
      "Processing Record 35 of Set 1 | port macquarie\n",
      "Processing Record 36 of Set 1 | nizhneyansk\n",
      "City not found. Skipping...\n",
      "Processing Record 37 of Set 1 | isangel\n",
      "Processing Record 38 of Set 1 | hay river\n",
      "Processing Record 39 of Set 1 | talnakh\n",
      "Processing Record 40 of Set 1 | itaporanga\n",
      "Processing Record 41 of Set 1 | zelenoborsk\n",
      "Processing Record 42 of Set 1 | avarua\n",
      "Processing Record 43 of Set 1 | hami\n",
      "Processing Record 44 of Set 1 | cabo san lucas\n",
      "Processing Record 45 of Set 1 | doka\n",
      "Processing Record 46 of Set 1 | mount isa\n",
      "Processing Record 47 of Set 1 | port blair\n",
      "Processing Record 48 of Set 1 | bosaso\n",
      "Processing Record 49 of Set 1 | masterton\n",
      "Processing Record 1 of Set 2 | kodiak\n",
      "Processing Record 2 of Set 2 | yellowknife\n",
      "Processing Record 3 of Set 2 | norwich\n",
      "Processing Record 4 of Set 2 | saleaula\n",
      "City not found. Skipping...\n",
      "Processing Record 5 of Set 2 | ust-kamchatsk\n",
      "City not found. Skipping...\n",
      "Processing Record 6 of Set 2 | bluff\n",
      "Processing Record 7 of Set 2 | kaitangata\n",
      "Processing Record 8 of Set 2 | nikolskoye\n",
      "Processing Record 9 of Set 2 | lac du bonnet\n",
      "Processing Record 10 of Set 2 | busselton\n",
      "Processing Record 11 of Set 2 | rabat\n",
      "Processing Record 12 of Set 2 | touros\n",
      "Processing Record 13 of Set 2 | esperance\n",
      "Processing Record 14 of Set 2 | hermanus\n",
      "Processing Record 15 of Set 2 | hilo\n",
      "Processing Record 16 of Set 2 | amderma\n",
      "City not found. Skipping...\n",
      "Processing Record 17 of Set 2 | waddan\n",
      "Processing Record 18 of Set 2 | richards bay\n",
      "Processing Record 19 of Set 2 | tsihombe\n",
      "City not found. Skipping...\n",
      "Processing Record 20 of Set 2 | faanui\n",
      "Processing Record 21 of Set 2 | hobart\n",
      "Processing Record 22 of Set 2 | lebu\n",
      "Processing Record 23 of Set 2 | kindu\n",
      "Processing Record 24 of Set 2 | cortez\n",
      "Processing Record 25 of Set 2 | new norfolk\n",
      "Processing Record 26 of Set 2 | sihora\n",
      "Processing Record 27 of Set 2 | sulangan\n",
      "Processing Record 28 of Set 2 | zhezkazgan\n",
      "Processing Record 29 of Set 2 | chon daen\n",
      "Processing Record 30 of Set 2 | mirnyy\n",
      "Processing Record 31 of Set 2 | vaini\n",
      "Processing Record 32 of Set 2 | dujuma\n",
      "City not found. Skipping...\n",
      "Processing Record 33 of Set 2 | tual\n",
      "Processing Record 34 of Set 2 | barentsburg\n",
      "City not found. Skipping...\n",
      "Processing Record 35 of Set 2 | georgetown\n",
      "Processing Record 36 of Set 2 | kyaikkami\n",
      "Processing Record 37 of Set 2 | cherskiy\n",
      "Processing Record 38 of Set 2 | khatanga\n",
      "Processing Record 39 of Set 2 | krems\n",
      "Processing Record 40 of Set 2 | dikson\n",
      "Processing Record 41 of Set 2 | barrow\n",
      "Processing Record 42 of Set 2 | ketchikan\n",
      "Processing Record 43 of Set 2 | mullaitivu\n",
      "City not found. Skipping...\n",
      "Processing Record 44 of Set 2 | kruisfontein\n",
      "Processing Record 45 of Set 2 | carnarvon\n",
      "Processing Record 46 of Set 2 | otane\n",
      "Processing Record 47 of Set 2 | pedernales\n",
      "Processing Record 48 of Set 2 | sarangani\n",
      "Processing Record 49 of Set 2 | berlevag\n",
      "Processing Record 1 of Set 3 | sosnovo-ozerskoye\n",
      "Processing Record 2 of Set 3 | cidreira\n",
      "Processing Record 3 of Set 3 | taolanaro\n",
      "City not found. Skipping...\n",
      "Processing Record 4 of Set 3 | hovd\n",
      "Processing Record 5 of Set 3 | luz\n",
      "Processing Record 6 of Set 3 | lompoc\n",
      "Processing Record 7 of Set 3 | idritsa\n",
      "Processing Record 8 of Set 3 | eruwa\n",
      "Processing Record 9 of Set 3 | flinders\n",
      "Processing Record 10 of Set 3 | ryotsu\n",
      "Processing Record 11 of Set 3 | port alfred\n",
      "Processing Record 12 of Set 3 | ponta do sol\n",
      "Processing Record 13 of Set 3 | hihifo\n",
      "City not found. Skipping...\n",
      "Processing Record 14 of Set 3 | yirol\n",
      "City not found. Skipping...\n",
      "Processing Record 15 of Set 3 | vaitupu\n",
      "City not found. Skipping...\n",
      "Processing Record 16 of Set 3 | sao filipe\n",
      "Processing Record 17 of Set 3 | fanai\n",
      "Processing Record 18 of Set 3 | tooele\n",
      "Processing Record 19 of Set 3 | jodhpur\n",
      "Processing Record 20 of Set 3 | upernavik\n",
      "Processing Record 21 of Set 3 | illoqqortoormiut\n",
      "City not found. Skipping...\n",
      "Processing Record 22 of Set 3 | eau claire\n",
      "Processing Record 23 of Set 3 | poso\n",
      "Processing Record 24 of Set 3 | tiksi\n",
      "Processing Record 25 of Set 3 | tshikapa\n",
      "Processing Record 26 of Set 3 | yar-sale\n",
      "Processing Record 27 of Set 3 | budesti\n",
      "Processing Record 28 of Set 3 | borogontsy\n",
      "Processing Record 29 of Set 3 | chokurdakh\n",
      "Processing Record 30 of Set 3 | okhotsk\n",
      "Processing Record 31 of Set 3 | bathsheba\n",
      "Processing Record 32 of Set 3 | comodoro rivadavia\n",
      "Processing Record 33 of Set 3 | lae\n",
      "Processing Record 34 of Set 3 | ayan\n",
      "Processing Record 35 of Set 3 | ritchie\n",
      "Processing Record 36 of Set 3 | hithadhoo\n",
      "Processing Record 37 of Set 3 | nahrin\n",
      "Processing Record 38 of Set 3 | ponerihouen\n",
      "Processing Record 39 of Set 3 | sorland\n",
      "Processing Record 40 of Set 3 | sayansk\n",
      "Processing Record 41 of Set 3 | ondorhaan\n",
      "City not found. Skipping...\n",
      "Processing Record 42 of Set 3 | qaanaaq\n",
      "Processing Record 43 of Set 3 | mys shmidta\n",
      "City not found. Skipping...\n",
      "Processing Record 44 of Set 3 | grand river south east\n",
      "City not found. Skipping...\n",
      "Processing Record 45 of Set 3 | gorom-gorom\n",
      "Processing Record 46 of Set 3 | sembakung\n",
      "Processing Record 47 of Set 3 | aranos\n",
      "Processing Record 48 of Set 3 | severo-kurilsk\n",
      "Processing Record 49 of Set 3 | belmonte\n",
      "Processing Record 1 of Set 4 | srednekolymsk\n",
      "Processing Record 2 of Set 4 | petatlan\n",
      "Processing Record 3 of Set 4 | straumen\n",
      "Processing Record 4 of Set 4 | beisfjord\n",
      "Processing Record 5 of Set 4 | chuy\n",
      "Processing Record 6 of Set 4 | belushya guba\n",
      "City not found. Skipping...\n",
      "Processing Record 7 of Set 4 | san patricio\n",
      "Processing Record 8 of Set 4 | porto walter\n",
      "Processing Record 9 of Set 4 | bud\n",
      "Processing Record 10 of Set 4 | jutai\n",
      "Processing Record 11 of Set 4 | labuhan\n",
      "Processing Record 12 of Set 4 | kapaa\n",
      "Processing Record 13 of Set 4 | east london\n",
      "Processing Record 14 of Set 4 | bamiantong\n",
      "Processing Record 15 of Set 4 | hasaki\n",
      "Processing Record 16 of Set 4 | phalaborwa\n",
      "Processing Record 17 of Set 4 | codrington\n",
      "Processing Record 18 of Set 4 | butaritari\n",
      "Processing Record 19 of Set 4 | komsomolskiy\n",
      "Processing Record 20 of Set 4 | casper\n",
      "Processing Record 21 of Set 4 | cap malheureux\n",
      "Processing Record 22 of Set 4 | hamilton\n",
      "Processing Record 23 of Set 4 | lorengau\n",
      "Processing Record 24 of Set 4 | fortuna\n",
      "Processing Record 25 of Set 4 | airai\n",
      "Processing Record 26 of Set 4 | eyrarbakki\n",
      "Processing Record 27 of Set 4 | ust-maya\n",
      "Processing Record 28 of Set 4 | shimoda\n",
      "Processing Record 29 of Set 4 | baruun-urt\n",
      "Processing Record 30 of Set 4 | sibolga\n",
      "Processing Record 31 of Set 4 | honningsvag\n",
      "Processing Record 32 of Set 4 | dingle\n",
      "Processing Record 33 of Set 4 | marsh harbour\n",
      "Processing Record 34 of Set 4 | vila do maio\n",
      "Processing Record 35 of Set 4 | thompson\n",
      "Processing Record 36 of Set 4 | campo grande\n",
      "Processing Record 37 of Set 4 | dera bugti\n"
     ]
    },
    {
     "name": "stdout",
     "output_type": "stream",
     "text": [
      "Processing Record 38 of Set 4 | haines junction\n",
      "Processing Record 39 of Set 4 | maraa\n",
      "Processing Record 40 of Set 4 | mamakan\n",
      "Processing Record 41 of Set 4 | mahina\n",
      "Processing Record 42 of Set 4 | aykhal\n",
      "Processing Record 43 of Set 4 | taoudenni\n",
      "Processing Record 44 of Set 4 | novoomskiy\n",
      "Processing Record 45 of Set 4 | lazaro cardenas\n",
      "Processing Record 46 of Set 4 | san marcos\n",
      "Processing Record 47 of Set 4 | babanusah\n",
      "City not found. Skipping...\n",
      "Processing Record 48 of Set 4 | port elizabeth\n",
      "Processing Record 49 of Set 4 | bethel\n",
      "Processing Record 1 of Set 5 | provideniya\n",
      "Processing Record 2 of Set 5 | marrakesh\n",
      "Processing Record 3 of Set 5 | tarakan\n",
      "Processing Record 4 of Set 5 | sabang\n",
      "Processing Record 5 of Set 5 | poya\n",
      "Processing Record 6 of Set 5 | arrecife\n",
      "Processing Record 7 of Set 5 | tiznit\n",
      "Processing Record 8 of Set 5 | atuona\n",
      "Processing Record 9 of Set 5 | samarinda\n",
      "Processing Record 10 of Set 5 | torbay\n",
      "Processing Record 11 of Set 5 | te anau\n",
      "Processing Record 12 of Set 5 | pangkalanbuun\n",
      "Processing Record 13 of Set 5 | hokitika\n",
      "Processing Record 14 of Set 5 | winsum\n",
      "Processing Record 15 of Set 5 | troitsko-pechorsk\n",
      "Processing Record 16 of Set 5 | iqaluit\n",
      "Processing Record 17 of Set 5 | samusu\n",
      "City not found. Skipping...\n",
      "Processing Record 18 of Set 5 | kadoma\n",
      "Processing Record 19 of Set 5 | burns lake\n",
      "Processing Record 20 of Set 5 | raudeberg\n",
      "Processing Record 21 of Set 5 | maymyo\n",
      "Processing Record 22 of Set 5 | maniitsoq\n",
      "Processing Record 23 of Set 5 | emerald\n",
      "Processing Record 24 of Set 5 | nome\n",
      "Processing Record 25 of Set 5 | praia da vitoria\n",
      "Processing Record 26 of Set 5 | kawalu\n",
      "Processing Record 27 of Set 5 | brookhaven\n",
      "Processing Record 28 of Set 5 | vestbygda\n",
      "City not found. Skipping...\n",
      "Processing Record 29 of Set 5 | salto\n",
      "Processing Record 30 of Set 5 | liverpool\n",
      "Processing Record 31 of Set 5 | dunedin\n",
      "Processing Record 32 of Set 5 | bolungarvik\n",
      "City not found. Skipping...\n",
      "Processing Record 33 of Set 5 | flin flon\n",
      "Processing Record 34 of Set 5 | olafsvik\n",
      "Processing Record 35 of Set 5 | ridgecrest\n",
      "Processing Record 36 of Set 5 | souillac\n",
      "Processing Record 37 of Set 5 | dolores\n",
      "Processing Record 38 of Set 5 | lloydminster\n",
      "Processing Record 39 of Set 5 | asau\n",
      "Processing Record 40 of Set 5 | leh\n",
      "Processing Record 41 of Set 5 | warah\n",
      "Processing Record 42 of Set 5 | altay\n",
      "Processing Record 43 of Set 5 | walvis bay\n",
      "Processing Record 44 of Set 5 | teya\n",
      "Processing Record 45 of Set 5 | buqayq\n",
      "City not found. Skipping...\n",
      "Processing Record 46 of Set 5 | ler\n",
      "Processing Record 47 of Set 5 | tukan\n",
      "Processing Record 48 of Set 5 | sorvag\n",
      "City not found. Skipping...\n",
      "Processing Record 49 of Set 5 | sao felix do xingu\n",
      "Processing Record 1 of Set 6 | novobelokatay\n",
      "Processing Record 2 of Set 6 | whitehorse\n",
      "Processing Record 3 of Set 6 | kendari\n",
      "Processing Record 4 of Set 6 | yamada\n",
      "Processing Record 5 of Set 6 | suffolk\n",
      "Processing Record 6 of Set 6 | tigil\n",
      "Processing Record 7 of Set 6 | atbasar\n",
      "Processing Record 8 of Set 6 | namibe\n",
      "Processing Record 9 of Set 6 | santa cruz\n",
      "Processing Record 10 of Set 6 | saint-philippe\n",
      "Processing Record 11 of Set 6 | college\n",
      "Processing Record 12 of Set 6 | formosa\n",
      "Processing Record 13 of Set 6 | azimur\n",
      "City not found. Skipping...\n",
      "Processing Record 14 of Set 6 | fayaoue\n",
      "Processing Record 15 of Set 6 | tombouctou\n",
      "Processing Record 16 of Set 6 | sembe\n",
      "Processing Record 17 of Set 6 | priargunsk\n",
      "Processing Record 18 of Set 6 | selfoss\n",
      "Processing Record 19 of Set 6 | pangai\n",
      "Processing Record 20 of Set 6 | peruibe\n",
      "Processing Record 21 of Set 6 | xai-xai\n",
      "Processing Record 22 of Set 6 | ugoofaaru\n",
      "Processing Record 23 of Set 6 | fare\n",
      "Processing Record 24 of Set 6 | lagoa\n",
      "Processing Record 25 of Set 6 | metsovon\n",
      "City not found. Skipping...\n",
      "Processing Record 26 of Set 6 | bacuit\n",
      "City not found. Skipping...\n",
      "Processing Record 27 of Set 6 | narsaq\n",
      "Processing Record 28 of Set 6 | westport\n",
      "Processing Record 29 of Set 6 | ngunguru\n",
      "Processing Record 30 of Set 6 | axim\n",
      "Processing Record 31 of Set 6 | huazolotitlan\n",
      "City not found. Skipping...\n",
      "Processing Record 32 of Set 6 | broken hill\n",
      "Processing Record 33 of Set 6 | rajapur\n",
      "Processing Record 34 of Set 6 | puerto escondido\n",
      "Processing Record 35 of Set 6 | methoni\n",
      "Processing Record 36 of Set 6 | amapa\n",
      "Processing Record 37 of Set 6 | gazanjyk\n",
      "Processing Record 38 of Set 6 | norman wells\n",
      "Processing Record 39 of Set 6 | lake cowichan\n",
      "Processing Record 40 of Set 6 | bay roberts\n",
      "Processing Record 41 of Set 6 | sitka\n",
      "Processing Record 42 of Set 6 | ancud\n",
      "Processing Record 43 of Set 6 | sentyabrskiy\n",
      "City not found. Skipping...\n",
      "Processing Record 44 of Set 6 | cedartown\n",
      "Processing Record 45 of Set 6 | constitucion\n",
      "Processing Record 46 of Set 6 | sochi\n",
      "Processing Record 47 of Set 6 | camana\n",
      "Processing Record 48 of Set 6 | portland\n",
      "Processing Record 49 of Set 6 | pacific grove\n",
      "Processing Record 1 of Set 7 | sola\n",
      "Processing Record 2 of Set 7 | libourne\n",
      "Processing Record 3 of Set 7 | san jeronimo\n",
      "Processing Record 4 of Set 7 | kannur\n",
      "Processing Record 5 of Set 7 | haibowan\n",
      "City not found. Skipping...\n",
      "Processing Record 6 of Set 7 | kirkenes\n",
      "Processing Record 7 of Set 7 | winnemucca\n",
      "Processing Record 8 of Set 7 | vao\n",
      "Processing Record 9 of Set 7 | kemijarvi\n",
      "Processing Record 10 of Set 7 | saskylakh\n",
      "Processing Record 11 of Set 7 | ambon\n",
      "Processing Record 12 of Set 7 | warqla\n",
      "City not found. Skipping...\n",
      "Processing Record 13 of Set 7 | san rafael del sur\n",
      "Processing Record 14 of Set 7 | tautira\n",
      "Processing Record 15 of Set 7 | byron bay\n",
      "Processing Record 16 of Set 7 | bereda\n",
      "Processing Record 17 of Set 7 | ife\n",
      "Processing Record 18 of Set 7 | muisne\n",
      "Processing Record 19 of Set 7 | watsa\n",
      "Processing Record 20 of Set 7 | arman\n",
      "Processing Record 21 of Set 7 | dali\n",
      "Processing Record 22 of Set 7 | mopipi\n",
      "Processing Record 23 of Set 7 | port lincoln\n",
      "Processing Record 24 of Set 7 | bukama\n",
      "Processing Record 25 of Set 7 | vila velha\n",
      "Processing Record 26 of Set 7 | port hedland\n",
      "Processing Record 27 of Set 7 | makung\n",
      "City not found. Skipping...\n",
      "Processing Record 28 of Set 7 | kenai\n",
      "Processing Record 29 of Set 7 | san vicente\n",
      "Processing Record 30 of Set 7 | pousat\n",
      "City not found. Skipping...\n",
      "Processing Record 31 of Set 7 | awjilah\n",
      "Processing Record 32 of Set 7 | korla\n",
      "Processing Record 33 of Set 7 | thai binh\n",
      "Processing Record 34 of Set 7 | kieta\n",
      "Processing Record 35 of Set 7 | saint-augustin\n",
      "Processing Record 36 of Set 7 | lakes entrance\n",
      "Processing Record 37 of Set 7 | porto novo\n",
      "Processing Record 38 of Set 7 | iberia\n",
      "Processing Record 39 of Set 7 | santa rosa\n",
      "Processing Record 40 of Set 7 | necochea\n",
      "Processing Record 41 of Set 7 | promysla\n",
      "City not found. Skipping...\n",
      "Processing Record 42 of Set 7 | svetlogorsk\n",
      "Processing Record 43 of Set 7 | kununurra\n",
      "Processing Record 44 of Set 7 | muros\n",
      "Processing Record 45 of Set 7 | kavieng\n",
      "Processing Record 46 of Set 7 | pergamino\n",
      "Processing Record 47 of Set 7 | slavyanka\n",
      "Processing Record 48 of Set 7 | port-gentil\n",
      "Processing Record 49 of Set 7 | jaramana\n",
      "City not found. Skipping...\n",
      "Processing Record 1 of Set 8 | chapais\n",
      "Processing Record 2 of Set 8 | pierre\n",
      "Processing Record 3 of Set 8 | ola\n",
      "Processing Record 4 of Set 8 | marsaxlokk\n",
      "Processing Record 5 of Set 8 | severnoye\n",
      "Processing Record 6 of Set 8 | solnechnyy\n",
      "Processing Record 7 of Set 8 | la gomera\n",
      "Processing Record 8 of Set 8 | ambilobe\n",
      "Processing Record 9 of Set 8 | tasiilaq\n",
      "Processing Record 10 of Set 8 | dickinson\n",
      "Processing Record 11 of Set 8 | sabha\n",
      "Processing Record 12 of Set 8 | east brainerd\n",
      "Processing Record 13 of Set 8 | clermont\n",
      "Processing Record 14 of Set 8 | laguna\n",
      "Processing Record 15 of Set 8 | luanda\n",
      "Processing Record 16 of Set 8 | labuan\n",
      "Processing Record 17 of Set 8 | kjopsvik\n",
      "Processing Record 18 of Set 8 | tatarsk\n",
      "Processing Record 19 of Set 8 | palana\n",
      "Processing Record 20 of Set 8 | jacmel\n",
      "Processing Record 21 of Set 8 | kutum\n",
      "Processing Record 22 of Set 8 | pekan\n",
      "Processing Record 23 of Set 8 | pomuch\n",
      "Processing Record 24 of Set 8 | umzimvubu\n",
      "City not found. Skipping...\n",
      "Processing Record 25 of Set 8 | southbridge\n",
      "Processing Record 26 of Set 8 | bilma\n",
      "Processing Record 27 of Set 8 | merrill\n",
      "Processing Record 28 of Set 8 | ilulissat\n",
      "Processing Record 29 of Set 8 | halalo\n",
      "City not found. Skipping...\n",
      "Processing Record 30 of Set 8 | yeletskiy\n",
      "City not found. Skipping...\n",
      "Processing Record 31 of Set 8 | kandrian\n"
     ]
    },
    {
     "name": "stdout",
     "output_type": "stream",
     "text": [
      "Processing Record 32 of Set 8 | omboue\n",
      "Processing Record 33 of Set 8 | bossangoa\n",
      "Processing Record 34 of Set 8 | arucas\n",
      "Processing Record 35 of Set 8 | sholokhove\n",
      "Processing Record 36 of Set 8 | bantogon\n",
      "Processing Record 37 of Set 8 | manado\n",
      "Processing Record 38 of Set 8 | changping\n",
      "Processing Record 39 of Set 8 | waterloo\n",
      "Processing Record 40 of Set 8 | akhmeta\n",
      "Processing Record 41 of Set 8 | makakilo city\n",
      "Processing Record 42 of Set 8 | grand gaube\n",
      "Processing Record 43 of Set 8 | novyy buh\n",
      "Processing Record 44 of Set 8 | saint george\n",
      "Processing Record 45 of Set 8 | inhambane\n",
      "Processing Record 46 of Set 8 | san ramon\n",
      "Processing Record 47 of Set 8 | balimo\n",
      "City not found. Skipping...\n",
      "Processing Record 48 of Set 8 | khani\n",
      "Processing Record 49 of Set 8 | sabinas hidalgo\n",
      "Processing Record 1 of Set 9 | ketchenery\n",
      "City not found. Skipping...\n",
      "Processing Record 2 of Set 9 | slave lake\n",
      "Processing Record 3 of Set 9 | san jose\n",
      "Processing Record 4 of Set 9 | vila franca do campo\n",
      "Processing Record 5 of Set 9 | carroll\n",
      "Processing Record 6 of Set 9 | guiratinga\n",
      "Processing Record 7 of Set 9 | tocache\n",
      "Processing Record 8 of Set 9 | tiarei\n",
      "Processing Record 9 of Set 9 | kamenka\n",
      "Processing Record 10 of Set 9 | broome\n",
      "Processing Record 11 of Set 9 | fairbanks\n",
      "Processing Record 12 of Set 9 | belyy yar\n",
      "Processing Record 13 of Set 9 | padang\n",
      "Processing Record 14 of Set 9 | isla vista\n",
      "Processing Record 15 of Set 9 | singaparna\n",
      "Processing Record 16 of Set 9 | nemuro\n",
      "Processing Record 17 of Set 9 | lata\n",
      "Processing Record 18 of Set 9 | mareeba\n",
      "Processing Record 19 of Set 9 | cockburn town\n",
      "Processing Record 20 of Set 9 | rybinsk\n",
      "Processing Record 21 of Set 9 | warrnambool\n",
      "Processing Record 22 of Set 9 | mehamn\n",
      "Processing Record 23 of Set 9 | acajutla\n",
      "Processing Record 24 of Set 9 | prince rupert\n",
      "Processing Record 25 of Set 9 | muriwai beach\n",
      "Processing Record 26 of Set 9 | guerrero negro\n",
      "Processing Record 27 of Set 9 | naryan-mar\n",
      "Processing Record 28 of Set 9 | sept-iles\n",
      "Processing Record 29 of Set 9 | havre-saint-pierre\n",
      "Processing Record 30 of Set 9 | kloulklubed\n",
      "Processing Record 31 of Set 9 | divnogorsk\n",
      "Processing Record 32 of Set 9 | chagda\n",
      "City not found. Skipping...\n",
      "Processing Record 33 of Set 9 | brownsville\n",
      "Processing Record 34 of Set 9 | gat\n",
      "Processing Record 35 of Set 9 | ostrovnoy\n",
      "Processing Record 36 of Set 9 | neryungri\n",
      "Processing Record 37 of Set 9 | katobu\n",
      "Processing Record 38 of Set 9 | berdigestyakh\n",
      "Processing Record 39 of Set 9 | xam nua\n",
      "Processing Record 40 of Set 9 | cankuzo\n",
      "Processing Record 41 of Set 9 | gondanglegi\n",
      "Processing Record 42 of Set 9 | general roca\n",
      "Processing Record 43 of Set 9 | nuuk\n",
      "Processing Record 44 of Set 9 | batagay-alyta\n",
      "Processing Record 45 of Set 9 | villarrica\n",
      "Processing Record 46 of Set 9 | maceio\n",
      "Processing Record 47 of Set 9 | caconda\n",
      "Processing Record 48 of Set 9 | basco\n",
      "Processing Record 49 of Set 9 | kumluca\n",
      "Processing Record 1 of Set 10 | alekseyevsk\n",
      "Processing Record 2 of Set 10 | hofn\n",
      "Processing Record 3 of Set 10 | bollnas\n",
      "Processing Record 4 of Set 10 | nicoya\n",
      "Processing Record 5 of Set 10 | the valley\n",
      "Processing Record 6 of Set 10 | sambava\n",
      "Processing Record 7 of Set 10 | satitoa\n",
      "City not found. Skipping...\n",
      "Processing Record 8 of Set 10 | dwarka\n",
      "Processing Record 9 of Set 10 | kysyl-syr\n",
      "Processing Record 10 of Set 10 | riyadh\n",
      "Processing Record 11 of Set 10 | abu zabad\n",
      "Processing Record 12 of Set 10 | kyzyl-oktyabr\n",
      "Processing Record 13 of Set 10 | primorsk\n",
      "Processing Record 14 of Set 10 | puyo\n",
      "Processing Record 15 of Set 10 | price\n",
      "Processing Record 16 of Set 10 | ha giang\n",
      "Processing Record 17 of Set 10 | madimba\n",
      "Processing Record 18 of Set 10 | kedrovyy\n",
      "Processing Record 19 of Set 10 | carson city\n",
      "Processing Record 20 of Set 10 | luganville\n",
      "Processing Record 21 of Set 10 | roald\n",
      "Processing Record 22 of Set 10 | labutta\n",
      "City not found. Skipping...\n",
      "Processing Record 23 of Set 10 | dibaya\n",
      "City not found. Skipping...\n",
      "Processing Record 24 of Set 10 | puerto palomas\n",
      "Processing Record 25 of Set 10 | tambacounda\n",
      "Processing Record 26 of Set 10 | vestmanna\n",
      "Processing Record 27 of Set 10 | juba\n",
      "Processing Record 28 of Set 10 | shenjiamen\n",
      "Processing Record 29 of Set 10 | aklavik\n",
      "Processing Record 30 of Set 10 | hambantota\n",
      "Processing Record 31 of Set 10 | pringsewu\n",
      "Processing Record 32 of Set 10 | morant bay\n",
      "Processing Record 33 of Set 10 | russell\n",
      "Processing Record 34 of Set 10 | seymchan\n",
      "Processing Record 35 of Set 10 | bac lieu\n",
      "Processing Record 36 of Set 10 | clyde river\n",
      "Processing Record 37 of Set 10 | bambous virieux\n",
      "Processing Record 38 of Set 10 | iquique\n",
      "Processing Record 39 of Set 10 | san carlos de bariloche\n",
      "Processing Record 40 of Set 10 | sidi ali\n",
      "Processing Record 41 of Set 10 | molepolole\n",
      "Processing Record 42 of Set 10 | buala\n",
      "Processing Record 43 of Set 10 | boende\n",
      "Processing Record 44 of Set 10 | lagunas\n",
      "Processing Record 45 of Set 10 | tazovskiy\n",
      "Processing Record 46 of Set 10 | eagle pass\n",
      "Processing Record 47 of Set 10 | tabas\n",
      "Processing Record 48 of Set 10 | phan rang\n",
      "City not found. Skipping...\n",
      "Processing Record 49 of Set 10 | akyab\n",
      "Processing Record 1 of Set 11 | san miguel\n",
      "Processing Record 2 of Set 11 | shakawe\n",
      "Processing Record 3 of Set 11 | sao joao da barra\n",
      "Processing Record 4 of Set 11 | dubbo\n",
      "Processing Record 5 of Set 11 | crotone\n",
      "Processing Record 6 of Set 11 | maneadero\n",
      "Processing Record 7 of Set 11 | qianan\n",
      "Processing Record 8 of Set 11 | la ronge\n",
      "Processing Record 9 of Set 11 | coronel oviedo\n",
      "Processing Record 10 of Set 11 | dabra\n",
      "Processing Record 11 of Set 11 | maryanovka\n",
      "City not found. Skipping...\n",
      "Processing Record 12 of Set 11 | xining\n",
      "Processing Record 13 of Set 11 | bakchar\n",
      "Processing Record 14 of Set 11 | vanavara\n",
      "Processing Record 15 of Set 11 | erenhot\n",
      "Processing Record 16 of Set 11 | port hardy\n",
      "Processing Record 17 of Set 11 | bonthe\n",
      "Processing Record 18 of Set 11 | tigre\n",
      "Processing Record 19 of Set 11 | czestochowa\n",
      "Processing Record 20 of Set 11 | boguchany\n",
      "Processing Record 21 of Set 11 | yuncheng\n",
      "Processing Record 22 of Set 11 | redmond\n",
      "Processing Record 23 of Set 11 | kearney\n",
      "Processing Record 24 of Set 11 | amga\n",
      "Processing Record 25 of Set 11 | aasiaat\n",
      "Processing Record 26 of Set 11 | nhulunbuy\n",
      "Processing Record 27 of Set 11 | sangar\n",
      "Processing Record 28 of Set 11 | alofi\n",
      "Processing Record 29 of Set 11 | bulungu\n",
      "Processing Record 30 of Set 11 | rungata\n",
      "City not found. Skipping...\n",
      "Processing Record 31 of Set 11 | svobodnyy\n",
      "Processing Record 32 of Set 11 | yumbe\n",
      "Processing Record 33 of Set 11 | sobolevo\n",
      "Processing Record 34 of Set 11 | sungai padi\n",
      "Processing Record 35 of Set 11 | samalaeulu\n",
      "City not found. Skipping...\n",
      "Processing Record 36 of Set 11 | pisco\n",
      "Processing Record 37 of Set 11 | ust-kut\n",
      "Processing Record 38 of Set 11 | delta\n",
      "Processing Record 39 of Set 11 | ulvik\n",
      "Processing Record 40 of Set 11 | rawson\n",
      "Processing Record 41 of Set 11 | loukhi\n",
      "Processing Record 42 of Set 11 | bonavista\n",
      "Processing Record 43 of Set 11 | san borja\n",
      "Processing Record 44 of Set 11 | ivdel\n",
      "Processing Record 45 of Set 11 | harlingen\n",
      "Processing Record 46 of Set 11 | ribeira brava\n",
      "Processing Record 47 of Set 11 | isiolo\n",
      "Processing Record 48 of Set 11 | san rafael\n",
      "Processing Record 49 of Set 11 | saint-georges\n",
      "Processing Record 1 of Set 12 | wanning\n",
      "Processing Record 2 of Set 12 | namatanai\n",
      "Processing Record 3 of Set 12 | monrovia\n",
      "Processing Record 4 of Set 12 | kondinskoye\n",
      "Processing Record 5 of Set 12 | parana\n",
      "Processing Record 6 of Set 12 | songadh\n",
      "Processing Record 7 of Set 12 | ishigaki\n",
      "Processing Record 8 of Set 12 | yomitan\n",
      "City not found. Skipping...\n",
      "Processing Record 9 of Set 12 | prainha\n",
      "Processing Record 10 of Set 12 | gamba\n",
      "Processing Record 11 of Set 12 | mentok\n",
      "City not found. Skipping...\n",
      "Processing Record 12 of Set 12 | lodja\n",
      "Processing Record 13 of Set 12 | mtwara\n",
      "Processing Record 14 of Set 12 | wuwei\n",
      "Processing Record 15 of Set 12 | westpunt\n",
      "City not found. Skipping...\n",
      "Processing Record 16 of Set 12 | thanh hoa\n",
      "Processing Record 17 of Set 12 | abu kamal\n",
      "Processing Record 18 of Set 12 | opuwo\n",
      "Processing Record 19 of Set 12 | urumqi\n",
      "Processing Record 20 of Set 12 | tessalit\n",
      "Processing Record 21 of Set 12 | mayo\n",
      "Processing Record 22 of Set 12 | galdar\n",
      "Processing Record 23 of Set 12 | dzhusaly\n",
      "City not found. Skipping...\n",
      "Processing Record 24 of Set 12 | talaya\n"
     ]
    },
    {
     "name": "stdout",
     "output_type": "stream",
     "text": [
      "Processing Record 25 of Set 12 | andarab\n",
      "City not found. Skipping...\n",
      "Processing Record 26 of Set 12 | yulara\n",
      "Processing Record 27 of Set 12 | itaituba\n",
      "Processing Record 28 of Set 12 | washington\n",
      "Processing Record 29 of Set 12 | chitral\n",
      "Processing Record 30 of Set 12 | belaya gora\n",
      "Processing Record 31 of Set 12 | ust-ishim\n",
      "Processing Record 32 of Set 12 | wewak\n",
      "Processing Record 33 of Set 12 | north shore\n",
      "Processing Record 34 of Set 12 | campbell river\n",
      "Processing Record 35 of Set 12 | cullman\n",
      "Processing Record 36 of Set 12 | yambio\n",
      "Processing Record 37 of Set 12 | acarau\n",
      "Processing Record 38 of Set 12 | mandalgovi\n",
      "Processing Record 39 of Set 12 | moroni\n",
      "Processing Record 40 of Set 12 | karakose\n",
      "City not found. Skipping...\n",
      "Processing Record 41 of Set 12 | ornskoldsvik\n",
      "Processing Record 42 of Set 12 | bandar\n",
      "Processing Record 43 of Set 12 | lavrentiya\n",
      "Processing Record 44 of Set 12 | yialos\n",
      "City not found. Skipping...\n",
      "Processing Record 45 of Set 12 | cervo\n",
      "Processing Record 46 of Set 12 | tokmak\n",
      "Processing Record 47 of Set 12 | morehead\n",
      "Processing Record 48 of Set 12 | roblin\n",
      "Processing Record 49 of Set 12 | naze\n",
      "Processing Record 1 of Set 13 | saint anthony\n",
      "Processing Record 2 of Set 13 | port victoria\n",
      "Processing Record 3 of Set 13 | nantucket\n",
      "Processing Record 4 of Set 13 | stornoway\n",
      "Processing Record 5 of Set 13 | voh\n",
      "Processing Record 6 of Set 13 | aktash\n"
     ]
    }
   ],
   "source": [
    "url = \"http://api.openweathermap.org/data/2.5/weather?units=Imperial&\"\n",
    "city_list=[]\n",
    "print(\"Beginning Data Retrieval  \")   \n",
    "print(\"-----------------------------\")\n",
    "\n",
    "record = 1\n",
    "set_ = 1\n",
    "\n",
    "\n",
    "for city in cities:\n",
    "    if (record % 50 == 0 and record >= 50):\n",
    "        set_ += 1\n",
    "        record = 1\n",
    "    print(f\"Processing Record {record} of Set {set_} | {city}\")\n",
    "    record += 1\n",
    "    query_url = url + \"appid=\" + weather_api_key + \"&q=\" + city\n",
    "    try:\n",
    "        weather_response = requests.get(query_url)\n",
    "        weather_json = weather_response.json()\n",
    "        city_name=weather_json[\"name\"]\n",
    "        city_lat=weather_json[\"coord\"][\"lat\"]\n",
    "        city_lon=weather_json[\"coord\"][\"lon\"]\n",
    "        city_temp=weather_json[\"main\"][\"temp_max\"]\n",
    "        city_humidity=weather_json[\"main\"][\"humidity\"]\n",
    "        city_wind=weather_json[\"wind\"][\"speed\"]\n",
    "        city_clouds=weather_json[\"clouds\"][\"all\"]\n",
    "        city_country=weather_json[\"sys\"][\"country\"]\n",
    "        city_date=weather_json[\"dt\"]\n",
    "        city_list.append({\"City\": city_name, \n",
    "                              \"Lat\": city_lat, \n",
    "                              \"Lng\": city_lon, \n",
    "                              \"Max Temp\": city_temp,\n",
    "                              \"Humidity\": city_humidity,\n",
    "                              \"Cloudiness\": city_clouds,\n",
    "                              \"Wind Speed\": city_wind,\n",
    "                              \"Country\": city_country,\n",
    "                              \"Date\": city_date\n",
    "                            })\n",
    "    except:\n",
    "        print(\"City not found. Skipping...\")\n",
    "        pass\n",
    "# -----------------------------\n",
    "# Data Retrieval Complete      \n",
    "# -----------------------------"
   ]
  },
  {
   "cell_type": "markdown",
   "metadata": {},
   "source": [
    "### Convert Raw Data to DataFrame\n",
    "* Export the city data into a .csv.\n",
    "* Display the DataFrame"
   ]
  },
  {
   "cell_type": "code",
   "execution_count": 4,
   "metadata": {},
   "outputs": [
    {
     "data": {
      "text/html": [
       "<div>\n",
       "<style scoped>\n",
       "    .dataframe tbody tr th:only-of-type {\n",
       "        vertical-align: middle;\n",
       "    }\n",
       "\n",
       "    .dataframe tbody tr th {\n",
       "        vertical-align: top;\n",
       "    }\n",
       "\n",
       "    .dataframe thead th {\n",
       "        text-align: right;\n",
       "    }\n",
       "</style>\n",
       "<table border=\"1\" class=\"dataframe\">\n",
       "  <thead>\n",
       "    <tr style=\"text-align: right;\">\n",
       "      <th></th>\n",
       "      <th>City</th>\n",
       "      <th>Lat</th>\n",
       "      <th>Lng</th>\n",
       "      <th>Max Temp</th>\n",
       "      <th>Humidity</th>\n",
       "      <th>Cloudiness</th>\n",
       "      <th>Wind Speed</th>\n",
       "      <th>Country</th>\n",
       "      <th>Date</th>\n",
       "    </tr>\n",
       "  </thead>\n",
       "  <tbody>\n",
       "    <tr>\n",
       "      <th>0</th>\n",
       "      <td>Lüderitz</td>\n",
       "      <td>-26.6481</td>\n",
       "      <td>15.1594</td>\n",
       "      <td>66.22</td>\n",
       "      <td>94</td>\n",
       "      <td>4</td>\n",
       "      <td>6.71</td>\n",
       "      <td>NA</td>\n",
       "      <td>1671047792</td>\n",
       "    </tr>\n",
       "    <tr>\n",
       "      <th>1</th>\n",
       "      <td>Klaksvík</td>\n",
       "      <td>62.2266</td>\n",
       "      <td>-6.5890</td>\n",
       "      <td>34.72</td>\n",
       "      <td>67</td>\n",
       "      <td>100</td>\n",
       "      <td>28.50</td>\n",
       "      <td>FO</td>\n",
       "      <td>1671047792</td>\n",
       "    </tr>\n",
       "    <tr>\n",
       "      <th>2</th>\n",
       "      <td>Vardø</td>\n",
       "      <td>70.3705</td>\n",
       "      <td>31.1107</td>\n",
       "      <td>17.58</td>\n",
       "      <td>79</td>\n",
       "      <td>75</td>\n",
       "      <td>16.11</td>\n",
       "      <td>NO</td>\n",
       "      <td>1671047792</td>\n",
       "    </tr>\n",
       "    <tr>\n",
       "      <th>3</th>\n",
       "      <td>Arraial do Cabo</td>\n",
       "      <td>-22.9661</td>\n",
       "      <td>-42.0278</td>\n",
       "      <td>78.76</td>\n",
       "      <td>57</td>\n",
       "      <td>40</td>\n",
       "      <td>12.66</td>\n",
       "      <td>BR</td>\n",
       "      <td>1671047793</td>\n",
       "    </tr>\n",
       "    <tr>\n",
       "      <th>4</th>\n",
       "      <td>Bredasdorp</td>\n",
       "      <td>-34.5322</td>\n",
       "      <td>20.0403</td>\n",
       "      <td>69.85</td>\n",
       "      <td>85</td>\n",
       "      <td>47</td>\n",
       "      <td>4.23</td>\n",
       "      <td>ZA</td>\n",
       "      <td>1671047793</td>\n",
       "    </tr>\n",
       "  </tbody>\n",
       "</table>\n",
       "</div>"
      ],
      "text/plain": [
       "              City      Lat      Lng  Max Temp  Humidity  Cloudiness  \\\n",
       "0         Lüderitz -26.6481  15.1594     66.22        94           4   \n",
       "1         Klaksvík  62.2266  -6.5890     34.72        67         100   \n",
       "2            Vardø  70.3705  31.1107     17.58        79          75   \n",
       "3  Arraial do Cabo -22.9661 -42.0278     78.76        57          40   \n",
       "4       Bredasdorp -34.5322  20.0403     69.85        85          47   \n",
       "\n",
       "   Wind Speed Country        Date  \n",
       "0        6.71      NA  1671047792  \n",
       "1       28.50      FO  1671047792  \n",
       "2       16.11      NO  1671047792  \n",
       "3       12.66      BR  1671047793  \n",
       "4        4.23      ZA  1671047793  "
      ]
     },
     "execution_count": 4,
     "metadata": {},
     "output_type": "execute_result"
    }
   ],
   "source": [
    "citydf=pd.DataFrame(city_list)\n",
    "citydf.to_csv('weather.csv', index=False)\n",
    "citydf.head()"
   ]
  },
  {
   "cell_type": "code",
   "execution_count": 5,
   "metadata": {},
   "outputs": [
    {
     "data": {
      "text/html": [
       "<div>\n",
       "<style scoped>\n",
       "    .dataframe tbody tr th:only-of-type {\n",
       "        vertical-align: middle;\n",
       "    }\n",
       "\n",
       "    .dataframe tbody tr th {\n",
       "        vertical-align: top;\n",
       "    }\n",
       "\n",
       "    .dataframe thead th {\n",
       "        text-align: right;\n",
       "    }\n",
       "</style>\n",
       "<table border=\"1\" class=\"dataframe\">\n",
       "  <thead>\n",
       "    <tr style=\"text-align: right;\">\n",
       "      <th></th>\n",
       "      <th>Lat</th>\n",
       "      <th>Lng</th>\n",
       "      <th>Max Temp</th>\n",
       "      <th>Humidity</th>\n",
       "      <th>Cloudiness</th>\n",
       "      <th>Wind Speed</th>\n",
       "      <th>Date</th>\n",
       "    </tr>\n",
       "  </thead>\n",
       "  <tbody>\n",
       "    <tr>\n",
       "      <th>count</th>\n",
       "      <td>537.000000</td>\n",
       "      <td>537.000000</td>\n",
       "      <td>537.000000</td>\n",
       "      <td>537.000000</td>\n",
       "      <td>537.000000</td>\n",
       "      <td>537.000000</td>\n",
       "      <td>5.370000e+02</td>\n",
       "    </tr>\n",
       "    <tr>\n",
       "      <th>mean</th>\n",
       "      <td>20.354840</td>\n",
       "      <td>17.393996</td>\n",
       "      <td>49.617709</td>\n",
       "      <td>73.731844</td>\n",
       "      <td>60.417132</td>\n",
       "      <td>8.063035</td>\n",
       "      <td>1.671048e+09</td>\n",
       "    </tr>\n",
       "    <tr>\n",
       "      <th>std</th>\n",
       "      <td>33.876079</td>\n",
       "      <td>94.520820</td>\n",
       "      <td>33.079548</td>\n",
       "      <td>21.497977</td>\n",
       "      <td>39.808088</td>\n",
       "      <td>6.054854</td>\n",
       "      <td>8.816236e+01</td>\n",
       "    </tr>\n",
       "    <tr>\n",
       "      <th>min</th>\n",
       "      <td>-54.800000</td>\n",
       "      <td>-175.200000</td>\n",
       "      <td>-61.080000</td>\n",
       "      <td>9.000000</td>\n",
       "      <td>0.000000</td>\n",
       "      <td>0.000000</td>\n",
       "      <td>1.671048e+09</td>\n",
       "    </tr>\n",
       "    <tr>\n",
       "      <th>25%</th>\n",
       "      <td>-7.304400</td>\n",
       "      <td>-67.583300</td>\n",
       "      <td>28.960000</td>\n",
       "      <td>62.000000</td>\n",
       "      <td>20.000000</td>\n",
       "      <td>3.510000</td>\n",
       "      <td>1.671048e+09</td>\n",
       "    </tr>\n",
       "    <tr>\n",
       "      <th>50%</th>\n",
       "      <td>25.900000</td>\n",
       "      <td>21.704900</td>\n",
       "      <td>60.420000</td>\n",
       "      <td>79.000000</td>\n",
       "      <td>75.000000</td>\n",
       "      <td>6.910000</td>\n",
       "      <td>1.671048e+09</td>\n",
       "    </tr>\n",
       "    <tr>\n",
       "      <th>75%</th>\n",
       "      <td>49.783400</td>\n",
       "      <td>104.043900</td>\n",
       "      <td>76.330000</td>\n",
       "      <td>91.000000</td>\n",
       "      <td>100.000000</td>\n",
       "      <td>10.510000</td>\n",
       "      <td>1.671048e+09</td>\n",
       "    </tr>\n",
       "    <tr>\n",
       "      <th>max</th>\n",
       "      <td>78.218600</td>\n",
       "      <td>176.633300</td>\n",
       "      <td>98.190000</td>\n",
       "      <td>100.000000</td>\n",
       "      <td>100.000000</td>\n",
       "      <td>32.590000</td>\n",
       "      <td>1.671048e+09</td>\n",
       "    </tr>\n",
       "  </tbody>\n",
       "</table>\n",
       "</div>"
      ],
      "text/plain": [
       "              Lat         Lng    Max Temp    Humidity  Cloudiness  Wind Speed  \\\n",
       "count  537.000000  537.000000  537.000000  537.000000  537.000000  537.000000   \n",
       "mean    20.354840   17.393996   49.617709   73.731844   60.417132    8.063035   \n",
       "std     33.876079   94.520820   33.079548   21.497977   39.808088    6.054854   \n",
       "min    -54.800000 -175.200000  -61.080000    9.000000    0.000000    0.000000   \n",
       "25%     -7.304400  -67.583300   28.960000   62.000000   20.000000    3.510000   \n",
       "50%     25.900000   21.704900   60.420000   79.000000   75.000000    6.910000   \n",
       "75%     49.783400  104.043900   76.330000   91.000000  100.000000   10.510000   \n",
       "max     78.218600  176.633300   98.190000  100.000000  100.000000   32.590000   \n",
       "\n",
       "               Date  \n",
       "count  5.370000e+02  \n",
       "mean   1.671048e+09  \n",
       "std    8.816236e+01  \n",
       "min    1.671048e+09  \n",
       "25%    1.671048e+09  \n",
       "50%    1.671048e+09  \n",
       "75%    1.671048e+09  \n",
       "max    1.671048e+09  "
      ]
     },
     "execution_count": 5,
     "metadata": {},
     "output_type": "execute_result"
    }
   ],
   "source": [
    "citydf.describe()"
   ]
  },
  {
   "cell_type": "markdown",
   "metadata": {},
   "source": [
    "## Plotting the Data\n",
    "* Use proper labeling of the plots using plot titles (including date of analysis) and axes labels.\n",
    "* Save the plotted figures as .pngs."
   ]
  },
  {
   "cell_type": "markdown",
   "metadata": {},
   "source": [
    "## Latitude vs. Temperature Plot"
   ]
  },
  {
   "cell_type": "code",
   "execution_count": 6,
   "metadata": {},
   "outputs": [
    {
     "data": {
      "text/plain": [
       "<matplotlib.collections.PathCollection at 0x7fc7bd889730>"
      ]
     },
     "execution_count": 6,
     "metadata": {},
     "output_type": "execute_result"
    },
    {
     "data": {
      "image/png": "[encoded data removed]",
      "text/plain": [
       "<Figure size 432x288 with 1 Axes>"
      ]
     },
     "metadata": {
      "needs_background": "light"
     },
     "output_type": "display_data"
    }
   ],
   "source": [
    "plt.scatter(citydf['Lat'],citydf['Max Temp'])"
   ]
  },
  {
   "cell_type": "markdown",
   "metadata": {},
   "source": [
    "## Latitude vs. Humidity Plot"
   ]
  },
  {
   "cell_type": "code",
   "execution_count": 7,
   "metadata": {},
   "outputs": [
    {
     "data": {
      "text/plain": [
       "<matplotlib.collections.PathCollection at 0x7fc7bd958820>"
      ]
     },
     "execution_count": 7,
     "metadata": {},
     "output_type": "execute_result"
    },
    {
     "data": {
      "image/png": "[encoded data removed]",
      "text/plain": [
       "<Figure size 432x288 with 1 Axes>"
      ]
     },
     "metadata": {
      "needs_background": "light"
     },
     "output_type": "display_data"
    }
   ],
   "source": [
    "plt.scatter(citydf['Lat'],citydf['Humidity'])"
   ]
  },
  {
   "cell_type": "markdown",
   "metadata": {},
   "source": [
    "## Latitude vs. Cloudiness Plot"
   ]
  },
  {
   "cell_type": "code",
   "execution_count": 8,
   "metadata": {},
   "outputs": [
    {
     "data": {
      "text/plain": [
       "<matplotlib.collections.PathCollection at 0x7fc7bda31640>"
      ]
     },
     "execution_count": 8,
     "metadata": {},
     "output_type": "execute_result"
    },
    {
     "data": {
      "image/png": "[encoded data removed]",
      "text/plain": [
       "<Figure size 432x288 with 1 Axes>"
      ]
     },
     "metadata": {
      "needs_background": "light"
     },
     "output_type": "display_data"
    }
   ],
   "source": [
    "plt.scatter(citydf['Lat'],citydf['Cloudiness'])"
   ]
  },
  {
   "cell_type": "markdown",
   "metadata": {},
   "source": [
    "## Latitude vs. Wind Speed Plot"
   ]
  },
  {
   "cell_type": "code",
   "execution_count": 9,
   "metadata": {},
   "outputs": [
    {
     "data": {
      "text/plain": [
       "<matplotlib.collections.PathCollection at 0x7fc7bdb8ea90>"
      ]
     },
     "execution_count": 9,
     "metadata": {},
     "output_type": "execute_result"
    },
    {
     "data": {
      "image/png": "[encoded data removed]",
      "text/plain": [
       "<Figure size 432x288 with 1 Axes>"
      ]
     },
     "metadata": {
      "needs_background": "light"
     },
     "output_type": "display_data"
    }
   ],
   "source": [
    "plt.scatter(citydf['Lat'],citydf['Wind Speed'])"
   ]
  },
  {
   "cell_type": "markdown",
   "metadata": {},
   "source": [
    "## Linear Regression"
   ]
  },
  {
   "cell_type": "code",
   "execution_count": 10,
   "metadata": {},
   "outputs": [],
   "source": [
    "nohem = citydf.loc[citydf[\"Lat\"] >= 0]\n",
    "sohem = citydf.loc[citydf[\"Lat\"] < 0]"
   ]
  },
  {
   "cell_type": "code",
   "execution_count": 11,
   "metadata": {},
   "outputs": [],
   "source": [
    "from sklearn.linear_model import LinearRegression"
   ]
  },
  {
   "cell_type": "markdown",
   "metadata": {},
   "source": [
    "####  Northern Hemisphere - Max Temp vs. Latitude Linear Regression"
   ]
  },
  {
   "cell_type": "code",
   "execution_count": 12,
   "metadata": {
    "scrolled": true
   },
   "outputs": [
    {
     "data": {
      "image/png": "[encoded data removed]",
      "text/plain": [
       "<Figure size 432x288 with 1 Axes>"
      ]
     },
     "metadata": {
      "needs_background": "light"
     },
     "output_type": "display_data"
    }
   ],
   "source": [
    "X = nohem['Lat'].values.reshape(-1, 1)  \n",
    "Y = nohem['Max Temp'].values.reshape(-1, 1)  \n",
    "linear_regressor = LinearRegression() \n",
    "linear_regressor.fit(X, Y)  # perform linear regression\n",
    "Y_pred = linear_regressor.predict(X) \n",
    "plt.scatter(X, Y)\n",
    "plt.plot(X, Y_pred, color='red')\n",
    "plt.xlabel(\"Latitude\")\n",
    "plt.ylabel(\"Max Temp\")\n",
    "plt.show()"
   ]
  },
  {
   "cell_type": "markdown",
   "metadata": {},
   "source": [
    "####  Southern Hemisphere - Max Temp vs. Latitude Linear Regression"
   ]
  },
  {
   "cell_type": "code",
   "execution_count": 13,
   "metadata": {},
   "outputs": [
    {
     "data": {
      "image/png": "[encoded data removed]",
      "text/plain": [
       "<Figure size 432x288 with 1 Axes>"
      ]
     },
     "metadata": {
      "needs_background": "light"
     },
     "output_type": "display_data"
    }
   ],
   "source": [
    "X = sohem['Lat'].values.reshape(-1, 1)  \n",
    "Y = sohem['Max Temp'].values.reshape(-1, 1)  \n",
    "linear_regressor = LinearRegression() \n",
    "linear_regressor.fit(X, Y)  # perform linear regression\n",
    "Y_pred = linear_regressor.predict(X) \n",
    "plt.scatter(X, Y)\n",
    "plt.plot(X, Y_pred, color='red')\n",
    "plt.xlabel(\"Latitude\")\n",
    "plt.ylabel(\"Max Temp\")\n",
    "plt.show()"
   ]
  },
  {
   "cell_type": "markdown",
   "metadata": {},
   "source": [
    "####  Northern Hemisphere - Humidity (%) vs. Latitude Linear Regression"
   ]
  },
  {
   "cell_type": "code",
   "execution_count": 14,
   "metadata": {},
   "outputs": [
    {
     "data": {
      "image/png": "[encoded data removed]",
      "text/plain": [
       "<Figure size 432x288 with 1 Axes>"
      ]
     },
     "metadata": {
      "needs_background": "light"
     },
     "output_type": "display_data"
    }
   ],
   "source": [
    "X = nohem['Lat'].values.reshape(-1, 1)  \n",
    "Y = nohem['Humidity'].values.reshape(-1, 1)  \n",
    "linear_regressor = LinearRegression() \n",
    "linear_regressor.fit(X, Y)  # perform linear regression\n",
    "Y_pred = linear_regressor.predict(X) \n",
    "plt.scatter(X, Y)\n",
    "plt.plot(X, Y_pred, color='red')\n",
    "plt.xlabel(\"Latitude\")\n",
    "plt.ylabel(\"Humidity\")\n",
    "plt.show()"
   ]
  },
  {
   "cell_type": "markdown",
   "metadata": {},
   "source": [
    "####  Southern Hemisphere - Humidity (%) vs. Latitude Linear Regression"
   ]
  },
  {
   "cell_type": "code",
   "execution_count": 15,
   "metadata": {},
   "outputs": [
    {
     "data": {
      "image/png": "[encoded data removed]",
      "text/plain": [
       "<Figure size 432x288 with 1 Axes>"
      ]
     },
     "metadata": {
      "needs_background": "light"
     },
     "output_type": "display_data"
    }
   ],
   "source": [
    "X = sohem['Lat'].values.reshape(-1, 1)  \n",
    "Y = sohem['Humidity'].values.reshape(-1, 1)  \n",
    "linear_regressor = LinearRegression() \n",
    "linear_regressor.fit(X, Y)  # perform linear regression\n",
    "Y_pred = linear_regressor.predict(X) \n",
    "plt.scatter(X, Y)\n",
    "plt.plot(X, Y_pred, color='red')\n",
    "plt.xlabel(\"Latitude\")\n",
    "plt.ylabel(\"Humidity\")\n",
    "plt.show()"
   ]
  },
  {
   "cell_type": "markdown",
   "metadata": {},
   "source": [
    "####  Northern Hemisphere - Cloudiness (%) vs. Latitude Linear Regression"
   ]
  },
  {
   "cell_type": "code",
   "execution_count": 16,
   "metadata": {},
   "outputs": [
    {
     "data": {
      "image/png": "[encoded data removed]",
      "text/plain": [
       "<Figure size 432x288 with 1 Axes>"
      ]
     },
     "metadata": {
      "needs_background": "light"
     },
     "output_type": "display_data"
    }
   ],
   "source": [
    "X = nohem['Lat'].values.reshape(-1, 1)  \n",
    "Y = nohem['Cloudiness'].values.reshape(-1, 1)  \n",
    "linear_regressor = LinearRegression() \n",
    "linear_regressor.fit(X, Y)  # perform linear regression\n",
    "Y_pred = linear_regressor.predict(X) \n",
    "plt.scatter(X, Y)\n",
    "plt.plot(X, Y_pred, color='red')\n",
    "plt.xlabel(\"Latitude\")\n",
    "plt.ylabel(\"Cloudiness\")\n",
    "plt.show()"
   ]
  },
  {
   "cell_type": "markdown",
   "metadata": {},
   "source": [
    "####  Southern Hemisphere - Cloudiness (%) vs. Latitude Linear Regression"
   ]
  },
  {
   "cell_type": "code",
   "execution_count": 17,
   "metadata": {},
   "outputs": [
    {
     "data": {
      "image/png": "[encoded data removed]",
      "text/plain": [
       "<Figure size 432x288 with 1 Axes>"
      ]
     },
     "metadata": {
      "needs_background": "light"
     },
     "output_type": "display_data"
    }
   ],
   "source": [
    "X = sohem['Lat'].values.reshape(-1, 1)  \n",
    "Y = sohem['Cloudiness'].values.reshape(-1, 1)  \n",
    "linear_regressor = LinearRegression() \n",
    "linear_regressor.fit(X, Y)  # perform linear regression\n",
    "Y_pred = linear_regressor.predict(X) \n",
    "plt.scatter(X, Y)\n",
    "plt.plot(X, Y_pred, color='red')\n",
    "plt.xlabel(\"Latitude\")\n",
    "plt.ylabel(\"Cloudiness\")\n",
    "plt.show()"
   ]
  },
  {
   "cell_type": "markdown",
   "metadata": {},
   "source": [
    "####  Northern Hemisphere - Wind Speed (mph) vs. Latitude Linear Regression"
   ]
  },
  {
   "cell_type": "code",
   "execution_count": 18,
   "metadata": {},
   "outputs": [
    {
     "data": {
      "image/png": "[encoded data removed]",
      "text/plain": [
       "<Figure size 432x288 with 1 Axes>"
      ]
     },
     "metadata": {
      "needs_background": "light"
     },
     "output_type": "display_data"
    }
   ],
   "source": [
    "X = nohem['Lat'].values.reshape(-1, 1)  \n",
    "Y = nohem['Wind Speed'].values.reshape(-1, 1)  \n",
    "linear_regressor = LinearRegression() \n",
    "linear_regressor.fit(X, Y)  # perform linear regression\n",
    "Y_pred = linear_regressor.predict(X) \n",
    "plt.scatter(X, Y)\n",
    "plt.plot(X, Y_pred, color='red')\n",
    "plt.xlabel(\"Latitude\")\n",
    "plt.ylabel(\"Wind Speed\")\n",
    "plt.show()"
   ]
  },
  {
   "cell_type": "markdown",
   "metadata": {},
   "source": [
    "####  Southern Hemisphere - Wind Speed (mph) vs. Latitude Linear Regression"
   ]
  },
  {
   "cell_type": "code",
   "execution_count": 19,
   "metadata": {},
   "outputs": [
    {
     "data": {
      "image/png": "[encoded data removed]",
      "text/plain": [
       "<Figure size 432x288 with 1 Axes>"
      ]
     },
     "metadata": {
      "needs_background": "light"
     },
     "output_type": "display_data"
    }
   ],
   "source": [
    "X = sohem['Lat'].values.reshape(-1, 1)  \n",
    "Y = sohem['Wind Speed'].values.reshape(-1, 1)  \n",
    "linear_regressor = LinearRegression() \n",
    "linear_regressor.fit(X, Y)  # perform linear regression\n",
    "Y_pred = linear_regressor.predict(X) \n",
    "plt.scatter(X, Y)\n",
    "plt.plot(X, Y_pred, color='red')\n",
    "plt.xlabel(\"Latitude\")\n",
    "plt.ylabel(\"Wind Speed\")\n",
    "plt.show()"
   ]
  },
  {
   "cell_type": "code",
   "execution_count": 20,
   "metadata": {},
   "outputs": [
    {
     "data": {
      "text/html": [
       "<div>\n",
       "<style scoped>\n",
       "    .dataframe tbody tr th:only-of-type {\n",
       "        vertical-align: middle;\n",
       "    }\n",
       "\n",
       "    .dataframe tbody tr th {\n",
       "        vertical-align: top;\n",
       "    }\n",
       "\n",
       "    .dataframe thead th {\n",
       "        text-align: right;\n",
       "    }\n",
       "</style>\n",
       "<table border=\"1\" class=\"dataframe\">\n",
       "  <thead>\n",
       "    <tr style=\"text-align: right;\">\n",
       "      <th></th>\n",
       "      <th>Lat</th>\n",
       "      <th>Lng</th>\n",
       "      <th>Max Temp</th>\n",
       "      <th>Humidity</th>\n",
       "      <th>Cloudiness</th>\n",
       "      <th>Wind Speed</th>\n",
       "      <th>Date</th>\n",
       "    </tr>\n",
       "  </thead>\n",
       "  <tbody>\n",
       "    <tr>\n",
       "      <th>Lat</th>\n",
       "      <td>1.000000</td>\n",
       "      <td>-0.047247</td>\n",
       "      <td>0.447723</td>\n",
       "      <td>0.221044</td>\n",
       "      <td>0.331333</td>\n",
       "      <td>-0.392406</td>\n",
       "      <td>0.261978</td>\n",
       "    </tr>\n",
       "    <tr>\n",
       "      <th>Lng</th>\n",
       "      <td>-0.047247</td>\n",
       "      <td>1.000000</td>\n",
       "      <td>-0.437975</td>\n",
       "      <td>0.322516</td>\n",
       "      <td>0.097585</td>\n",
       "      <td>-0.326995</td>\n",
       "      <td>-0.008187</td>\n",
       "    </tr>\n",
       "    <tr>\n",
       "      <th>Max Temp</th>\n",
       "      <td>0.447723</td>\n",
       "      <td>-0.437975</td>\n",
       "      <td>1.000000</td>\n",
       "      <td>-0.449811</td>\n",
       "      <td>-0.064728</td>\n",
       "      <td>-0.039876</td>\n",
       "      <td>0.238293</td>\n",
       "    </tr>\n",
       "    <tr>\n",
       "      <th>Humidity</th>\n",
       "      <td>0.221044</td>\n",
       "      <td>0.322516</td>\n",
       "      <td>-0.449811</td>\n",
       "      <td>1.000000</td>\n",
       "      <td>0.327382</td>\n",
       "      <td>-0.352256</td>\n",
       "      <td>-0.130667</td>\n",
       "    </tr>\n",
       "    <tr>\n",
       "      <th>Cloudiness</th>\n",
       "      <td>0.331333</td>\n",
       "      <td>0.097585</td>\n",
       "      <td>-0.064728</td>\n",
       "      <td>0.327382</td>\n",
       "      <td>1.000000</td>\n",
       "      <td>-0.216131</td>\n",
       "      <td>0.067344</td>\n",
       "    </tr>\n",
       "    <tr>\n",
       "      <th>Wind Speed</th>\n",
       "      <td>-0.392406</td>\n",
       "      <td>-0.326995</td>\n",
       "      <td>-0.039876</td>\n",
       "      <td>-0.352256</td>\n",
       "      <td>-0.216131</td>\n",
       "      <td>1.000000</td>\n",
       "      <td>-0.174413</td>\n",
       "    </tr>\n",
       "    <tr>\n",
       "      <th>Date</th>\n",
       "      <td>0.261978</td>\n",
       "      <td>-0.008187</td>\n",
       "      <td>0.238293</td>\n",
       "      <td>-0.130667</td>\n",
       "      <td>0.067344</td>\n",
       "      <td>-0.174413</td>\n",
       "      <td>1.000000</td>\n",
       "    </tr>\n",
       "  </tbody>\n",
       "</table>\n",
       "</div>"
      ],
      "text/plain": [
       "                 Lat       Lng  Max Temp  Humidity  Cloudiness  Wind Speed  \\\n",
       "Lat         1.000000 -0.047247  0.447723  0.221044    0.331333   -0.392406   \n",
       "Lng        -0.047247  1.000000 -0.437975  0.322516    0.097585   -0.326995   \n",
       "Max Temp    0.447723 -0.437975  1.000000 -0.449811   -0.064728   -0.039876   \n",
       "Humidity    0.221044  0.322516 -0.449811  1.000000    0.327382   -0.352256   \n",
       "Cloudiness  0.331333  0.097585 -0.064728  0.327382    1.000000   -0.216131   \n",
       "Wind Speed -0.392406 -0.326995 -0.039876 -0.352256   -0.216131    1.000000   \n",
       "Date        0.261978 -0.008187  0.238293 -0.130667    0.067344   -0.174413   \n",
       "\n",
       "                Date  \n",
       "Lat         0.261978  \n",
       "Lng        -0.008187  \n",
       "Max Temp    0.238293  \n",
       "Humidity   -0.130667  \n",
       "Cloudiness  0.067344  \n",
       "Wind Speed -0.174413  \n",
       "Date        1.000000  "
      ]
     },
     "execution_count": 20,
     "metadata": {},
     "output_type": "execute_result"
    }
   ],
   "source": [
    "sohem.corr()"
   ]
  },
  {
   "cell_type": "code",
   "execution_count": 21,
   "metadata": {},
   "outputs": [
    {
     "data": {
      "text/html": [
       "<div>\n",
       "<style scoped>\n",
       "    .dataframe tbody tr th:only-of-type {\n",
       "        vertical-align: middle;\n",
       "    }\n",
       "\n",
       "    .dataframe tbody tr th {\n",
       "        vertical-align: top;\n",
       "    }\n",
       "\n",
       "    .dataframe thead th {\n",
       "        text-align: right;\n",
       "    }\n",
       "</style>\n",
       "<table border=\"1\" class=\"dataframe\">\n",
       "  <thead>\n",
       "    <tr style=\"text-align: right;\">\n",
       "      <th></th>\n",
       "      <th>Lat</th>\n",
       "      <th>Lng</th>\n",
       "      <th>Max Temp</th>\n",
       "      <th>Humidity</th>\n",
       "      <th>Cloudiness</th>\n",
       "      <th>Wind Speed</th>\n",
       "      <th>Date</th>\n",
       "    </tr>\n",
       "  </thead>\n",
       "  <tbody>\n",
       "    <tr>\n",
       "      <th>Lat</th>\n",
       "      <td>1.000000</td>\n",
       "      <td>-0.040992</td>\n",
       "      <td>-0.844376</td>\n",
       "      <td>0.389378</td>\n",
       "      <td>0.275736</td>\n",
       "      <td>0.113044</td>\n",
       "      <td>0.021801</td>\n",
       "    </tr>\n",
       "    <tr>\n",
       "      <th>Lng</th>\n",
       "      <td>-0.040992</td>\n",
       "      <td>1.000000</td>\n",
       "      <td>-0.273382</td>\n",
       "      <td>0.124637</td>\n",
       "      <td>0.077548</td>\n",
       "      <td>-0.093475</td>\n",
       "      <td>0.116675</td>\n",
       "    </tr>\n",
       "    <tr>\n",
       "      <th>Max Temp</th>\n",
       "      <td>-0.844376</td>\n",
       "      <td>-0.273382</td>\n",
       "      <td>1.000000</td>\n",
       "      <td>-0.446990</td>\n",
       "      <td>-0.217735</td>\n",
       "      <td>0.058435</td>\n",
       "      <td>-0.102544</td>\n",
       "    </tr>\n",
       "    <tr>\n",
       "      <th>Humidity</th>\n",
       "      <td>0.389378</td>\n",
       "      <td>0.124637</td>\n",
       "      <td>-0.446990</td>\n",
       "      <td>1.000000</td>\n",
       "      <td>0.507774</td>\n",
       "      <td>-0.075062</td>\n",
       "      <td>0.004696</td>\n",
       "    </tr>\n",
       "    <tr>\n",
       "      <th>Cloudiness</th>\n",
       "      <td>0.275736</td>\n",
       "      <td>0.077548</td>\n",
       "      <td>-0.217735</td>\n",
       "      <td>0.507774</td>\n",
       "      <td>1.000000</td>\n",
       "      <td>0.101053</td>\n",
       "      <td>0.097247</td>\n",
       "    </tr>\n",
       "    <tr>\n",
       "      <th>Wind Speed</th>\n",
       "      <td>0.113044</td>\n",
       "      <td>-0.093475</td>\n",
       "      <td>0.058435</td>\n",
       "      <td>-0.075062</td>\n",
       "      <td>0.101053</td>\n",
       "      <td>1.000000</td>\n",
       "      <td>-0.068672</td>\n",
       "    </tr>\n",
       "    <tr>\n",
       "      <th>Date</th>\n",
       "      <td>0.021801</td>\n",
       "      <td>0.116675</td>\n",
       "      <td>-0.102544</td>\n",
       "      <td>0.004696</td>\n",
       "      <td>0.097247</td>\n",
       "      <td>-0.068672</td>\n",
       "      <td>1.000000</td>\n",
       "    </tr>\n",
       "  </tbody>\n",
       "</table>\n",
       "</div>"
      ],
      "text/plain": [
       "                 Lat       Lng  Max Temp  Humidity  Cloudiness  Wind Speed  \\\n",
       "Lat         1.000000 -0.040992 -0.844376  0.389378    0.275736    0.113044   \n",
       "Lng        -0.040992  1.000000 -0.273382  0.124637    0.077548   -0.093475   \n",
       "Max Temp   -0.844376 -0.273382  1.000000 -0.446990   -0.217735    0.058435   \n",
       "Humidity    0.389378  0.124637 -0.446990  1.000000    0.507774   -0.075062   \n",
       "Cloudiness  0.275736  0.077548 -0.217735  0.507774    1.000000    0.101053   \n",
       "Wind Speed  0.113044 -0.093475  0.058435 -0.075062    0.101053    1.000000   \n",
       "Date        0.021801  0.116675 -0.102544  0.004696    0.097247   -0.068672   \n",
       "\n",
       "                Date  \n",
       "Lat         0.021801  \n",
       "Lng         0.116675  \n",
       "Max Temp   -0.102544  \n",
       "Humidity    0.004696  \n",
       "Cloudiness  0.097247  \n",
       "Wind Speed -0.068672  \n",
       "Date        1.000000  "
      ]
     },
     "execution_count": 21,
     "metadata": {},
     "output_type": "execute_result"
    }
   ],
   "source": [
    "nohem.corr()"
   ]
  },
  {
   "cell_type": "code",
   "execution_count": null,
   "metadata": {},
   "outputs": [],
   "source": []
  }
 ],
 "metadata": {
  "anaconda-cloud": {},
  "kernel_info": {
   "name": "python3"
  },
  "kernelspec": {
   "display_name": "Python 3 (ipykernel)",
   "language": "python",
   "name": "python3"
  },
  "language_info": {
   "codemirror_mode": {
    "name": "ipython",
    "version": 3
   },
   "file_extension": ".py",
   "mimetype": "text/x-python",
   "name": "python",
   "nbconvert_exporter": "python",
   "pygments_lexer": "ipython3",
   "version": "3.9.12"
  },
  "latex_envs": {
   "LaTeX_envs_menu_present": true,
   "autoclose": false,
   "autocomplete": true,
   "bibliofile": "biblio.bib",
   "cite_by": "apalike",
   "current_citInitial": 1,
   "eqLabelWithNumbers": true,
   "eqNumInitial": 1,
   "hotkeys": {
    "equation": "Ctrl-E",
    "itemize": "Ctrl-I"
   },
   "labels_anchors": false,
   "latex_user_defs": false,
   "report_style_numbering": false,
   "user_envs_cfg": false
  },
  "nteract": {
   "version": "0.12.3"
  }
 },
 "nbformat": 4,
 "nbformat_minor": 2
}
